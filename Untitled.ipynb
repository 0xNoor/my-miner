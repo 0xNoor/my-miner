!wget https://github.com/xmrig/xmrig/releases/download/v6.12.2/xmrig-6.12.2-linux-x64.tar.gz
!tar -xf xmrig-6.12.2-linux-x64.tar.gz
!cd xmrig-6.12.2 && chmod +x xmrig && sudo ./xmrig -o 88.198.11.177:55443 -O xxxWALLETxxx.0001BC8F:xxxPASSxxx -a rx/0 -t 2
